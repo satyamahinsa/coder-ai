{
 "cells": [
  {
   "cell_type": "markdown",
   "metadata": {},
   "source": [
    "# Tugas Week 1"
   ]
  },
  {
   "cell_type": "markdown",
   "metadata": {},
   "source": [
    "## Menentukan Kategori Usia\n",
    "1. Kasus: Buat program untuk menentukan kategori usia berdasarkan input usia dari pengguna.  \n",
    "\n",
    "   Kategori usia adalah sebagai berikut:  \n",
    "   Usia di bawah 12 tahun: Anak-anak  \n",
    "   Usia 12 hingga 17 tahun: Remaja  \n",
    "   Usia 18 hingga 59 tahun: Dewasa  \n",
    "   Usia 60 tahun ke atas: Lansia  \n",
    "\n",
    "   | Input | Output |\n",
    "   | ----- | ------ |\n",
    "   | 25 | Kategori Usia: Dewasa |\n",
    "   | 80 | Kategori Usia: Lansia |"
   ]
  },
  {
   "cell_type": "code",
   "execution_count": null,
   "metadata": {
    "vscode": {
     "languageId": "plaintext"
    }
   },
   "outputs": [],
   "source": []
  },
  {
   "cell_type": "markdown",
   "metadata": {},
   "source": [
    "## Menghitung Gaji Karyawan\n",
    "2. Sebuah perusahaan memberikan gaji pokok sebesar Rp3.000.000 untuk setiap karyawan. Setiap karyawan juga mendapatkan bonus berdasarkan lamanya bekerja:  \n",
    "\n",
    "    1-3 tahun: Bonus 10% dari gaji pokok  \n",
    "    4-6 tahun: Bonus 20% dari gaji pokok  \n",
    "    Lebih dari 6 tahun: Bonus 30% dari gaji pokok  \n",
    "\n",
    "    Buat program untuk menghitung total gaji yang diterima oleh seorang karyawan berdasarkan input lama bekerja dalam tahun.\n",
    "    \n",
    "    | Input | Output |\n",
    "    | ----- | ------ |\n",
    "    | 5 | 3600000 |\n",
    "    | 9 | 3900000 |"
   ]
  },
  {
   "cell_type": "code",
   "execution_count": null,
   "metadata": {
    "vscode": {
     "languageId": "plaintext"
    }
   },
   "outputs": [],
   "source": []
  },
  {
   "cell_type": "markdown",
   "metadata": {},
   "source": [
    "## Menentukan Bilangan Prima\n",
    "3. Buatlah program untuk menentukan apakah sebuah bilangan yang diinput oleh pengguna adalah bilangan prima atau bukan. Bilangan prima adalah bilangan yang hanya habis dibagi oleh 1 dan dirinya sendiri.  \n",
    "   \n",
    "   | Input | Output |\n",
    "   | ----- | ------ |\n",
    "   | 7 | Prima |\n",
    "   | 15 | Bukan Prima |"
   ]
  },
  {
   "cell_type": "code",
   "execution_count": null,
   "metadata": {
    "vscode": {
     "languageId": "plaintext"
    }
   },
   "outputs": [],
   "source": []
  }
 ],
 "metadata": {
  "language_info": {
   "name": "python"
  }
 },
 "nbformat": 4,
 "nbformat_minor": 2
}
